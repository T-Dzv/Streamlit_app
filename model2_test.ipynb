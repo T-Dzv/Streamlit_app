{
 "cells": [
  {
   "cell_type": "markdown",
   "metadata": {},
   "source": [
    "Завантаження та тестування другої версії моделі - нейронна мережа зі згортковою основою VGG16, натренована на датасеті fashion-mnist із точністю на тестових даних _____%"
   ]
  }
 ],
 "metadata": {
  "language_info": {
   "name": "python"
  }
 },
 "nbformat": 4,
 "nbformat_minor": 2
}
