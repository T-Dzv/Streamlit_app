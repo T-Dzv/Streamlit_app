{
 "cells": [
  {
   "cell_type": "markdown",
   "metadata": {},
   "source": [
    "Завантаження та тестування другої версії моделі - нейронна мережа зі згортковою основою VGG16, натренована на датасеті fashion-mnist із точністю на тестових даних 90.02%"
   ]
  },
  {
   "cell_type": "code",
   "execution_count": 2,
   "metadata": {},
   "outputs": [
    {
     "name": "stderr",
     "output_type": "stream",
     "text": [
      "WARNING:absl:Compiled the loaded model, but the compiled metrics have yet to be built. `model.compile_metrics` will be empty until you train or evaluate the model.\n"
     ]
    }
   ],
   "source": [
    "from tensorflow.keras.models import load_model\n",
    "\n",
    "model = load_model('model2.h5')"
   ]
  },
  {
   "cell_type": "code",
   "execution_count": 2,
   "metadata": {},
   "outputs": [
    {
     "name": "stdout",
     "output_type": "stream",
     "text": [
      "<function categorical_crossentropy at 0x000001E0366A3600>\n",
      "[<Mean name=loss>, <CompileMetrics name=compile_metrics>]\n"
     ]
    }
   ],
   "source": [
    "print(model.loss)      # Проверка сохранённой функции потерь\n",
    "print(model.metrics)   # Проверка сохранённых метрик"
   ]
  },
  {
   "cell_type": "code",
   "execution_count": 3,
   "metadata": {},
   "outputs": [],
   "source": [
    "from keras.datasets import fashion_mnist\n",
    "from tensorflow.keras.utils import to_categorical\n",
    "import tensorflow as tf\n",
    "\n",
    "\n",
    "# Загрузка данных\n",
    "(train_images, train_labels), (test_images, test_labels) = fashion_mnist.load_data()\n",
    "\n",
    "test_images = test_images.reshape((10000, 28, 28, 1)).astype(\"float32\") / 255\n",
    "test_images = tf.image.resize(test_images, (32, 32))\n",
    "test_images = tf.image.grayscale_to_rgb(tf.convert_to_tensor(test_images))\n",
    "\n",
    "test_labels = tf.convert_to_tensor(to_categorical(test_labels), dtype=tf.float32)"
   ]
  },
  {
   "cell_type": "code",
   "execution_count": 10,
   "metadata": {},
   "outputs": [
    {
     "name": "stdout",
     "output_type": "stream",
     "text": [
      "(10000, 32, 32, 3)\n",
      "(10000, 10)\n",
      "(None, 32, 32, 3)\n"
     ]
    }
   ],
   "source": [
    "print(test_images.shape)  # Ожидается: (10000, 32, 32, 3)\n",
    "print(test_labels.shape)  # Ожидается: (10000, 10)\n",
    "print(model.input_shape)  # Ожидается: (None, 32, 32, 3)\n"
   ]
  },
  {
   "cell_type": "code",
   "execution_count": 11,
   "metadata": {},
   "outputs": [],
   "source": [
    "model.compile(\n",
    "    optimizer='rmsprop',  # Оригинальный оптимизатор\n",
    "    loss='categorical_crossentropy',  # Оригинальная функция потерь\n",
    "    metrics=['accuracy']  # Метрики\n",
    ")\n"
   ]
  },
  {
   "cell_type": "code",
   "execution_count": 12,
   "metadata": {},
   "outputs": [
    {
     "name": "stdout",
     "output_type": "stream",
     "text": [
      "\u001b[1m313/313\u001b[0m \u001b[32m━━━━━━━━━━━━━━━━━━━━\u001b[0m\u001b[37m\u001b[0m \u001b[1m57s\u001b[0m 180ms/step - accuracy: 0.8981 - loss: 0.3092\n",
      "Accuracy on test data: 0.9002000093460083\n",
      "Loss on test data: 0.3139190375804901\n"
     ]
    }
   ],
   "source": [
    "test_loss, test_accuracy = model.evaluate(test_images, test_labels)\n",
    "print(f\"Accuracy on test data: {test_accuracy}\")\n",
    "print(f'Loss on test data: {test_loss}')"
   ]
  },
  {
   "cell_type": "code",
   "execution_count": 4,
   "metadata": {},
   "outputs": [],
   "source": [
    "labels = [\n",
    "    \"T-shirt/top\", \"Trouser\", \"Pullover\", \"Dress\", \"Coat\",\n",
    "    \"Sandal\", \"Shirt\", \"Sneaker\", \"Bag\", \"Ankle boot\"\n",
    "]\n"
   ]
  },
  {
   "cell_type": "code",
   "execution_count": 5,
   "metadata": {},
   "outputs": [
    {
     "name": "stdout",
     "output_type": "stream",
     "text": [
      "\u001b[1m313/313\u001b[0m \u001b[32m━━━━━━━━━━━━━━━━━━━━\u001b[0m\u001b[37m\u001b[0m \u001b[1m46s\u001b[0m 145ms/step\n",
      "1. Prediction: Ankle boot; Real: Ankle boot\n",
      "2. Prediction: Pullover; Real: Pullover\n",
      "3. Prediction: Trouser; Real: Trouser\n",
      "4. Prediction: Trouser; Real: Trouser\n",
      "5. Prediction: Shirt; Real: Shirt\n"
     ]
    }
   ],
   "source": [
    "predictions = model.predict(test_images)\n",
    "for i in range(5):\n",
    "    pred_class = predictions[i].argmax()  # Предсказанный класс\n",
    "    real_class = tf.argmax(test_labels[i]).numpy()  # Реальный класс\n",
    "    print(f'{i+1}. Prediction: {labels[pred_class]}; Real: {labels[real_class]}')\n"
   ]
  }
 ],
 "metadata": {
  "kernelspec": {
   "display_name": "Python (myenv)",
   "language": "python",
   "name": "myenv"
  },
  "language_info": {
   "codemirror_mode": {
    "name": "ipython",
    "version": 3
   },
   "file_extension": ".py",
   "mimetype": "text/x-python",
   "name": "python",
   "nbconvert_exporter": "python",
   "pygments_lexer": "ipython3",
   "version": "3.12.4"
  }
 },
 "nbformat": 4,
 "nbformat_minor": 2
}
